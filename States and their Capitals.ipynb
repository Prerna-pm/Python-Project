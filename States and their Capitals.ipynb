{
 "cells": [
  {
   "cell_type": "markdown",
   "id": "9c3ae4d9-ca4e-44ff-9175-2029b10e81e1",
   "metadata": {},
   "source": [
    "# Project Overview"
   ]
  },
  {
   "cell_type": "markdown",
   "id": "9660b118-53f5-4b5e-9a3c-89dfcb16ffbb",
   "metadata": {},
   "source": [
    "In this project, a dictionary is created of the Indian states along with their respective capitals such that it allows user to know the capital of the state they want to particularly look for. If a state is not present in the dictionary, it will return the output as not found. This code could be deployed in the backend of an application to identify the capital of a state."
   ]
  },
  {
   "cell_type": "code",
   "execution_count": null,
   "id": "a4faf9f1-91aa-4c72-99f9-58e72cc4195e",
   "metadata": {},
   "outputs": [],
   "source": []
  },
  {
   "cell_type": "code",
   "execution_count": 21,
   "id": "30420886-e582-47b1-9a14-3a678366e7df",
   "metadata": {},
   "outputs": [],
   "source": [
    "State = {\"Andhra Pradesh\":\"Amaravati\",\n",
    "     \"Arunachal Pradesh\":\"Itanagar\",\n",
    "     \"Assam\":\"Dispur\",\n",
    "     \"Bihar\":\"Patna\",\n",
    "     \"Chattisgarh\":\"Raipur\",\n",
    "     \"Goa\":\"Panaji\",\n",
    "     \"Gujarat\":\"Gandhinagar\",\n",
    "     \"Haryana\":\"Chandigarh\",\n",
    "     \"Himachal Pradesh\":\"Shimla\",\n",
    "     \"Jharkhand\":\"Ranchi\",\n",
    "     \"Karnataka\":\"Banglore\",\n",
    "     \"Kerela\":\"Thiruvananthapuram\",\n",
    "     \"Madhya Pradesh\":\"Bhopal\",\n",
    "     \"Maharashtra\":\"Mumbai\",\n",
    "     \"Manipur\":\"Imphal\",\n",
    "     \"Meghalaya\":\"Shillong\",\n",
    "     \"Mizoram\":\"Aizawl\",\n",
    "     \"Nagaland\":\"Kohima\",\n",
    "     \"Odisha\":\"Bhubaneswar\",\n",
    "     \"Punjab\":\"Chandigarh\",\n",
    "     \"Rajasthan\":\"Jaipur\",\n",
    "     \"Sikkim\":\"Gangtok\",\n",
    "     \"Tamil Nadu\":\"Chennai\",\n",
    "     \"Telangana\":\"Hyderabad\",\n",
    "     \"Tripura\":\"Agartala\",\n",
    "     \"Uttarakhand\":\"Dehradun\",\n",
    "     \"Uttar Pradesh\":\"Lucknow\",\n",
    "     \"West Bengal\":\"Kolkata\"}"
   ]
  },
  {
   "cell_type": "code",
   "execution_count": 19,
   "id": "2779db87-df92-40c6-bda2-dd6557b240d4",
   "metadata": {},
   "outputs": [
    {
     "name": "stdin",
     "output_type": "stream",
     "text": [
      "Enter Name of State: uttar pradesh\n"
     ]
    },
    {
     "name": "stdout",
     "output_type": "stream",
     "text": [
      "\n",
      " Lucknow is the capital of Uttar Pradesh.\n"
     ]
    }
   ],
   "source": [
    "x = list(State.keys())\n",
    "y = str(input(\"Enter Name of State:\")).title()\n",
    "if y in x:\n",
    "    capital = State[y]\n",
    "    print(f\"\\n {capital} is the capital of {y}.\")\n",
    "else:\n",
    "    print(\"Not Found\")"
   ]
  },
  {
   "cell_type": "code",
   "execution_count": null,
   "id": "8057b42b-f1fd-4ae0-a2bd-8debecfe1145",
   "metadata": {},
   "outputs": [],
   "source": []
  },
  {
   "cell_type": "code",
   "execution_count": null,
   "id": "f0c39aca-a5aa-4c41-8c40-b47ab254689d",
   "metadata": {},
   "outputs": [],
   "source": []
  }
 ],
 "metadata": {
  "kernelspec": {
   "display_name": "Python 3 (ipykernel)",
   "language": "python",
   "name": "python3"
  },
  "language_info": {
   "codemirror_mode": {
    "name": "ipython",
    "version": 3
   },
   "file_extension": ".py",
   "mimetype": "text/x-python",
   "name": "python",
   "nbconvert_exporter": "python",
   "pygments_lexer": "ipython3",
   "version": "3.12.7"
  }
 },
 "nbformat": 4,
 "nbformat_minor": 5
}
